{
 "cells": [
  {
   "cell_type": "code",
   "execution_count": 28,
   "metadata": {},
   "outputs": [],
   "source": [
    "import matplotlib\n",
    "import matplotlib.font_manager as fm\n",
    "\n",
    "matplotlib.use('Agg')\n",
    "#matplotlib.rc('font', family=\"D2Coding\")\n",
    "# [f.fname for f in matplotlib.font_manager.fontManager.ttflist]\n",
    "font_location = 'C:\\\\Users\\\\62190\\\\AppData\\\\Local\\\\Microsoft\\\\Windows\\\\Fonts\\\\NanumBarunGothic.ttf' # ex - 또는 ./utils/NanumBarunGothic.ttf\n",
    "font_name = fm.FontProperties(fname = font_location).get_name()\n",
    "matplotlib.rc('font', family = font_name)"
   ]
  },
  {
   "cell_type": "code",
   "execution_count": 77,
   "metadata": {},
   "outputs": [],
   "source": [
    "# 경고 무시\n",
    "import warnings\n",
    "warnings.simplefilter('ignore')\n",
    "\n",
    "# 자주 사용하는 패키지를 임포트\n",
    "import matplotlib as mpl\n",
    "import matplotlib.font_manager as fm\n",
    "\n",
    "import matplotlib.pylab as plt\n",
    "from mpl_toolkits.mplot3d import Axes3D\n",
    "import seaborn as sns\n",
    "import numpy as np\n",
    "import scipy as sp\n",
    "import pandas as pd\n",
    "import statsmodels.api as sm\n",
    "import sklearn as sk\n",
    "import pgmpy\n",
    "import scipy.stats\n",
    "\n",
    "\n",
    "# matplotlib 설정\n",
    "mpl.use('Agg')\n",
    "\n",
    "# seaborn 설정\n",
    "sns.set()\n",
    "sns.set_style(\"whitegrid\")\n",
    "sns.set_color_codes()\n",
    "\n",
    "%matplotlib inline\n",
    "\n",
    "from sklearn.model_selection import train_test_split\n",
    "from sklearn.linear_model import LinearRegression\n",
    "from sklearn.feature_selection import RFE\n",
    "from sklearn.linear_model import RidgeCV, LassoCV, Ridge, Lasso"
   ]
  },
  {
   "cell_type": "code",
   "execution_count": 53,
   "metadata": {},
   "outputs": [
    {
     "data": {
      "text/html": [
       "<div>\n",
       "<style scoped>\n",
       "    .dataframe tbody tr th:only-of-type {\n",
       "        vertical-align: middle;\n",
       "    }\n",
       "\n",
       "    .dataframe tbody tr th {\n",
       "        vertical-align: top;\n",
       "    }\n",
       "\n",
       "    .dataframe thead th {\n",
       "        text-align: right;\n",
       "    }\n",
       "</style>\n",
       "<table border=\"1\" class=\"dataframe\">\n",
       "  <thead>\n",
       "    <tr style=\"text-align: right;\">\n",
       "      <th></th>\n",
       "      <th>Item</th>\n",
       "      <th>Count</th>\n",
       "      <th>Total_View</th>\n",
       "      <th>Total_Amount</th>\n",
       "      <th>Tot_Am_Stand</th>\n",
       "      <th>Total_EA</th>\n",
       "      <th>Mom_Code</th>\n",
       "      <th>Item_Code</th>\n",
       "      <th>Item_Group</th>\n",
       "      <th>Price</th>\n",
       "    </tr>\n",
       "  </thead>\n",
       "  <tbody>\n",
       "    <tr>\n",
       "      <th>0</th>\n",
       "      <td>한일 대용량 스텐 분쇄믹서기</td>\n",
       "      <td>401</td>\n",
       "      <td>8020</td>\n",
       "      <td>18167996000</td>\n",
       "      <td>9.241823</td>\n",
       "      <td>165464</td>\n",
       "      <td>100255</td>\n",
       "      <td>200868</td>\n",
       "      <td>주방</td>\n",
       "      <td>109800</td>\n",
       "    </tr>\n",
       "    <tr>\n",
       "      <th>1</th>\n",
       "      <td>안동간고등어 20팩</td>\n",
       "      <td>318</td>\n",
       "      <td>6360</td>\n",
       "      <td>14391949000</td>\n",
       "      <td>7.225970</td>\n",
       "      <td>465759</td>\n",
       "      <td>100253</td>\n",
       "      <td>200864</td>\n",
       "      <td>농수축</td>\n",
       "      <td>30900</td>\n",
       "    </tr>\n",
       "    <tr>\n",
       "      <th>2</th>\n",
       "      <td>일시불 LG전자 매직스페이스 냉장고</td>\n",
       "      <td>308</td>\n",
       "      <td>6180</td>\n",
       "      <td>10904495000</td>\n",
       "      <td>5.364184</td>\n",
       "      <td>7938</td>\n",
       "      <td>100155</td>\n",
       "      <td>200554</td>\n",
       "      <td>가전</td>\n",
       "      <td>1409000</td>\n",
       "    </tr>\n",
       "    <tr>\n",
       "      <th>3</th>\n",
       "      <td>무이자 LG전자 매직스페이스 냉장고</td>\n",
       "      <td>308</td>\n",
       "      <td>6180</td>\n",
       "      <td>9279239000</td>\n",
       "      <td>4.496537</td>\n",
       "      <td>6132</td>\n",
       "      <td>100155</td>\n",
       "      <td>200487</td>\n",
       "      <td>가전</td>\n",
       "      <td>1549000</td>\n",
       "    </tr>\n",
       "    <tr>\n",
       "      <th>4</th>\n",
       "      <td>일시불 LG 울트라HD TV 65UK6800HNC</td>\n",
       "      <td>295</td>\n",
       "      <td>5940</td>\n",
       "      <td>6230040000</td>\n",
       "      <td>2.868714</td>\n",
       "      <td>3573</td>\n",
       "      <td>100148</td>\n",
       "      <td>200508</td>\n",
       "      <td>가전</td>\n",
       "      <td>1900000</td>\n",
       "    </tr>\n",
       "    <tr>\n",
       "      <th>...</th>\n",
       "      <td>...</td>\n",
       "      <td>...</td>\n",
       "      <td>...</td>\n",
       "      <td>...</td>\n",
       "      <td>...</td>\n",
       "      <td>...</td>\n",
       "      <td>...</td>\n",
       "      <td>...</td>\n",
       "      <td>...</td>\n",
       "      <td>...</td>\n",
       "    </tr>\n",
       "    <tr>\n",
       "      <th>358</th>\n",
       "      <td>스위스밀리터리 전동공구세트</td>\n",
       "      <td>2</td>\n",
       "      <td>60</td>\n",
       "      <td>83659000</td>\n",
       "      <td>-0.412548</td>\n",
       "      <td>606</td>\n",
       "      <td>100433</td>\n",
       "      <td>201346</td>\n",
       "      <td>생활용품</td>\n",
       "      <td>138000</td>\n",
       "    </tr>\n",
       "    <tr>\n",
       "      <th>359</th>\n",
       "      <td>쿠미투니카 하이서포트 심리스  란쥬&amp;팬티</td>\n",
       "      <td>2</td>\n",
       "      <td>60</td>\n",
       "      <td>63618000</td>\n",
       "      <td>-0.423247</td>\n",
       "      <td>796</td>\n",
       "      <td>100445</td>\n",
       "      <td>202281</td>\n",
       "      <td>속옷</td>\n",
       "      <td>79900</td>\n",
       "    </tr>\n",
       "    <tr>\n",
       "      <th>360</th>\n",
       "      <td>헤스떼벨 웜 업 란쥬쉐이퍼</td>\n",
       "      <td>2</td>\n",
       "      <td>60</td>\n",
       "      <td>39341000</td>\n",
       "      <td>-0.436207</td>\n",
       "      <td>773</td>\n",
       "      <td>100124</td>\n",
       "      <td>200332</td>\n",
       "      <td>속옷</td>\n",
       "      <td>50900</td>\n",
       "    </tr>\n",
       "    <tr>\n",
       "      <th>361</th>\n",
       "      <td>마스케라 밍크니팅모자세트</td>\n",
       "      <td>2</td>\n",
       "      <td>60</td>\n",
       "      <td>33805000</td>\n",
       "      <td>-0.439163</td>\n",
       "      <td>679</td>\n",
       "      <td>100678</td>\n",
       "      <td>202025</td>\n",
       "      <td>잡화</td>\n",
       "      <td>49800</td>\n",
       "    </tr>\n",
       "    <tr>\n",
       "      <th>362</th>\n",
       "      <td>마스케라 풀스킨 밍크머플러세트</td>\n",
       "      <td>2</td>\n",
       "      <td>60</td>\n",
       "      <td>11507000</td>\n",
       "      <td>-0.451066</td>\n",
       "      <td>231</td>\n",
       "      <td>100678</td>\n",
       "      <td>202027</td>\n",
       "      <td>잡화</td>\n",
       "      <td>49800</td>\n",
       "    </tr>\n",
       "  </tbody>\n",
       "</table>\n",
       "<p>363 rows × 10 columns</p>\n",
       "</div>"
      ],
      "text/plain": [
       "                            Item  Count  Total_View  Total_Amount  \\\n",
       "0                한일 대용량 스텐 분쇄믹서기    401        8020   18167996000   \n",
       "1                     안동간고등어 20팩    318        6360   14391949000   \n",
       "2            일시불 LG전자 매직스페이스 냉장고    308        6180   10904495000   \n",
       "3            무이자 LG전자 매직스페이스 냉장고    308        6180    9279239000   \n",
       "4    일시불 LG 울트라HD TV 65UK6800HNC    295        5940    6230040000   \n",
       "..                           ...    ...         ...           ...   \n",
       "358               스위스밀리터리 전동공구세트      2          60      83659000   \n",
       "359       쿠미투니카 하이서포트 심리스  란쥬&팬티      2          60      63618000   \n",
       "360               헤스떼벨 웜 업 란쥬쉐이퍼      2          60      39341000   \n",
       "361                마스케라 밍크니팅모자세트      2          60      33805000   \n",
       "362             마스케라 풀스킨 밍크머플러세트      2          60      11507000   \n",
       "\n",
       "     Tot_Am_Stand  Total_EA  Mom_Code  Item_Code Item_Group    Price  \n",
       "0        9.241823    165464    100255     200868         주방   109800  \n",
       "1        7.225970    465759    100253     200864        농수축    30900  \n",
       "2        5.364184      7938    100155     200554         가전  1409000  \n",
       "3        4.496537      6132    100155     200487         가전  1549000  \n",
       "4        2.868714      3573    100148     200508         가전  1900000  \n",
       "..            ...       ...       ...        ...        ...      ...  \n",
       "358     -0.412548       606    100433     201346       생활용품   138000  \n",
       "359     -0.423247       796    100445     202281         속옷    79900  \n",
       "360     -0.436207       773    100124     200332         속옷    50900  \n",
       "361     -0.439163       679    100678     202025         잡화    49800  \n",
       "362     -0.451066       231    100678     202027         잡화    49800  \n",
       "\n",
       "[363 rows x 10 columns]"
      ]
     },
     "execution_count": 53,
     "metadata": {},
     "output_type": "execute_result"
    }
   ],
   "source": [
    "sale_t = pd.read_csv(\"datas/sales_total.csv\", encoding=\"ANSI\")\n",
    "sale_t"
   ]
  },
  {
   "cell_type": "markdown",
   "metadata": {},
   "source": [
    "## 가격 분포 그래프"
   ]
  },
  {
   "cell_type": "code",
   "execution_count": 5,
   "metadata": {},
   "outputs": [
    {
     "data": {
      "image/png": "[encoded data removed]",
      "text/plain": [
       "<Figure size 432x288 with 1 Axes>"
      ]
     },
     "metadata": {
      "needs_background": "light"
     },
     "output_type": "display_data"
    }
   ],
   "source": [
    "sns.distplot(sale_t.Price)\n",
    "plt.title(\"Price Dist\")\n",
    "plt.show()"
   ]
  },
  {
   "cell_type": "markdown",
   "metadata": {},
   "source": [
    "## 마더코드별 총 판매액"
   ]
  },
  {
   "cell_type": "code",
   "execution_count": 31,
   "metadata": {},
   "outputs": [
    {
     "data": {
      "text/plain": [
       "Mom_Code\n",
       "100001     151336000\n",
       "100016      30530000\n",
       "100022     595458000\n",
       "100026    1650690000\n",
       "100041     191295000\n",
       "             ...    \n",
       "100837     743436000\n",
       "100839      15937000\n",
       "100841    4528056000\n",
       "100844    1272830000\n",
       "100849    5777266000\n",
       "Name: Total_Amount, Length: 180, dtype: int64"
      ]
     },
     "execution_count": 31,
     "metadata": {},
     "output_type": "execute_result"
    }
   ],
   "source": [
    "sale_t.groupby(sale_t.Mom_Code).Total_Amount.median()"
   ]
  },
  {
   "cell_type": "markdown",
   "metadata": {},
   "source": [
    "## 상품군별 총 판매액과 그래프"
   ]
  },
  {
   "cell_type": "code",
   "execution_count": 30,
   "metadata": {},
   "outputs": [
    {
     "data": {
      "text/plain": [
       "Item_Group\n",
       "가구       65869000\n",
       "가전      216916000\n",
       "건강기능    167300000\n",
       "농수축     498370500\n",
       "생활용품    131003000\n",
       "속옷      387246000\n",
       "의류      236308500\n",
       "이미용     123814000\n",
       "잡화      222547000\n",
       "주방      325707000\n",
       "Name: Total_Amount, dtype: int64"
      ]
     },
     "execution_count": 30,
     "metadata": {},
     "output_type": "execute_result"
    }
   ],
   "source": [
    "A = sale_t.groupby(sale_t.Item_Group).Total_Amount.median()\n",
    "A"
   ]
  },
  {
   "cell_type": "code",
   "execution_count": 29,
   "metadata": {},
   "outputs": [
    {
     "data": {
      "image/png": "[encoded data removed]",
      "text/plain": [
       "<Figure size 432x288 with 1 Axes>"
      ]
     },
     "metadata": {
      "needs_background": "light"
     },
     "output_type": "display_data"
    }
   ],
   "source": [
    "sale_t.boxplot(\"Total_Amount\", \"Item_Group\")\n",
    "plt.show()"
   ]
  },
  {
   "cell_type": "markdown",
   "metadata": {},
   "source": [
    "## 상품군별 판매량"
   ]
  },
  {
   "cell_type": "code",
   "execution_count": 32,
   "metadata": {},
   "outputs": [
    {
     "data": {
      "image/png": "[encoded data removed]",
      "text/plain": [
       "<Figure size 432x288 with 1 Axes>"
      ]
     },
     "metadata": {
      "needs_background": "light"
     },
     "output_type": "display_data"
    }
   ],
   "source": [
    "sale_t.boxplot(\"Total_EA\", \"Item_Group\")\n",
    "plt.show()"
   ]
  },
  {
   "cell_type": "markdown",
   "metadata": {},
   "source": [
    "## 변수의 분포"
   ]
  },
  {
   "cell_type": "code",
   "execution_count": 36,
   "metadata": {},
   "outputs": [
    {
     "data": {
      "text/html": [
       "<div>\n",
       "<style scoped>\n",
       "    .dataframe tbody tr th:only-of-type {\n",
       "        vertical-align: middle;\n",
       "    }\n",
       "\n",
       "    .dataframe tbody tr th {\n",
       "        vertical-align: top;\n",
       "    }\n",
       "\n",
       "    .dataframe thead th {\n",
       "        text-align: right;\n",
       "    }\n",
       "</style>\n",
       "<table border=\"1\" class=\"dataframe\">\n",
       "  <thead>\n",
       "    <tr style=\"text-align: right;\">\n",
       "      <th></th>\n",
       "      <th>Count</th>\n",
       "      <th>Total_View</th>\n",
       "      <th>Total_Amount</th>\n",
       "      <th>Total_EA</th>\n",
       "      <th>Mom_Code</th>\n",
       "      <th>Item_Code</th>\n",
       "      <th>Price</th>\n",
       "    </tr>\n",
       "  </thead>\n",
       "  <tbody>\n",
       "    <tr>\n",
       "      <th>count</th>\n",
       "      <td>363.000000</td>\n",
       "      <td>363.000000</td>\n",
       "      <td>3.630000e+02</td>\n",
       "      <td>363.000000</td>\n",
       "      <td>363.000000</td>\n",
       "      <td>363.000000</td>\n",
       "      <td>3.630000e+02</td>\n",
       "    </tr>\n",
       "    <tr>\n",
       "      <th>mean</th>\n",
       "      <td>37.815427</td>\n",
       "      <td>766.608815</td>\n",
       "      <td>8.564339e+08</td>\n",
       "      <td>10604.595041</td>\n",
       "      <td>100463.663912</td>\n",
       "      <td>201439.743802</td>\n",
       "      <td>3.075413e+05</td>\n",
       "    </tr>\n",
       "    <tr>\n",
       "      <th>std</th>\n",
       "      <td>58.830749</td>\n",
       "      <td>1177.295588</td>\n",
       "      <td>1.873176e+09</td>\n",
       "      <td>32978.672875</td>\n",
       "      <td>244.480038</td>\n",
       "      <td>704.187120</td>\n",
       "      <td>5.270562e+05</td>\n",
       "    </tr>\n",
       "    <tr>\n",
       "      <th>min</th>\n",
       "      <td>2.000000</td>\n",
       "      <td>56.000000</td>\n",
       "      <td>1.500000e+05</td>\n",
       "      <td>0.000000</td>\n",
       "      <td>100001.000000</td>\n",
       "      <td>200001.000000</td>\n",
       "      <td>2.980000e+04</td>\n",
       "    </tr>\n",
       "    <tr>\n",
       "      <th>25%</th>\n",
       "      <td>6.000000</td>\n",
       "      <td>120.000000</td>\n",
       "      <td>7.372950e+07</td>\n",
       "      <td>607.500000</td>\n",
       "      <td>100242.000000</td>\n",
       "      <td>200849.500000</td>\n",
       "      <td>5.140000e+04</td>\n",
       "    </tr>\n",
       "    <tr>\n",
       "      <th>50%</th>\n",
       "      <td>16.000000</td>\n",
       "      <td>356.000000</td>\n",
       "      <td>2.419390e+08</td>\n",
       "      <td>2669.000000</td>\n",
       "      <td>100491.000000</td>\n",
       "      <td>201510.000000</td>\n",
       "      <td>7.990000e+04</td>\n",
       "    </tr>\n",
       "    <tr>\n",
       "      <th>75%</th>\n",
       "      <td>40.000000</td>\n",
       "      <td>828.500000</td>\n",
       "      <td>7.593505e+08</td>\n",
       "      <td>8289.500000</td>\n",
       "      <td>100672.000000</td>\n",
       "      <td>202071.500000</td>\n",
       "      <td>2.085000e+05</td>\n",
       "    </tr>\n",
       "    <tr>\n",
       "      <th>max</th>\n",
       "      <td>401.000000</td>\n",
       "      <td>8020.000000</td>\n",
       "      <td>1.816800e+10</td>\n",
       "      <td>465759.000000</td>\n",
       "      <td>100849.000000</td>\n",
       "      <td>202512.000000</td>\n",
       "      <td>2.990000e+06</td>\n",
       "    </tr>\n",
       "  </tbody>\n",
       "</table>\n",
       "</div>"
      ],
      "text/plain": [
       "            Count   Total_View  Total_Amount       Total_EA       Mom_Code  \\\n",
       "count  363.000000   363.000000  3.630000e+02     363.000000     363.000000   \n",
       "mean    37.815427   766.608815  8.564339e+08   10604.595041  100463.663912   \n",
       "std     58.830749  1177.295588  1.873176e+09   32978.672875     244.480038   \n",
       "min      2.000000    56.000000  1.500000e+05       0.000000  100001.000000   \n",
       "25%      6.000000   120.000000  7.372950e+07     607.500000  100242.000000   \n",
       "50%     16.000000   356.000000  2.419390e+08    2669.000000  100491.000000   \n",
       "75%     40.000000   828.500000  7.593505e+08    8289.500000  100672.000000   \n",
       "max    401.000000  8020.000000  1.816800e+10  465759.000000  100849.000000   \n",
       "\n",
       "           Item_Code         Price  \n",
       "count     363.000000  3.630000e+02  \n",
       "mean   201439.743802  3.075413e+05  \n",
       "std       704.187120  5.270562e+05  \n",
       "min    200001.000000  2.980000e+04  \n",
       "25%    200849.500000  5.140000e+04  \n",
       "50%    201510.000000  7.990000e+04  \n",
       "75%    202071.500000  2.085000e+05  \n",
       "max    202512.000000  2.990000e+06  "
      ]
     },
     "execution_count": 36,
     "metadata": {},
     "output_type": "execute_result"
    }
   ],
   "source": [
    "sale_t.describe().iloc[:]"
   ]
  },
  {
   "cell_type": "markdown",
   "metadata": {},
   "source": [
    "## 회귀분석"
   ]
  },
  {
   "cell_type": "code",
   "execution_count": 33,
   "metadata": {},
   "outputs": [
    {
     "name": "stdout",
     "output_type": "stream",
     "text": [
      "                            OLS Regression Results                            \n",
      "==============================================================================\n",
      "Dep. Variable:           Total_Amount   R-squared:                       0.847\n",
      "Model:                            OLS   Adj. R-squared:                  0.842\n",
      "Method:                 Least Squares   F-statistic:                     161.6\n",
      "Date:                Mon, 17 Aug 2020   Prob (F-statistic):          1.22e-134\n",
      "Time:                        12:50:58   Log-Likelihood:                -7924.1\n",
      "No. Observations:                 363   AIC:                         1.587e+04\n",
      "Df Residuals:                     350   BIC:                         1.592e+04\n",
      "Df Model:                          12                                         \n",
      "Covariance Type:            nonrobust                                         \n",
      "=======================================================================================\n",
      "                          coef    std err          t      P>|t|      [0.025      0.975]\n",
      "---------------------------------------------------------------------------------------\n",
      "C(Item_Group)[가구]     7.77e+07   2.13e+08      0.364      0.716   -3.42e+08    4.98e+08\n",
      "C(Item_Group)[가전]    4.059e+08   2.09e+08      1.939      0.053    -5.8e+06    8.18e+08\n",
      "C(Item_Group)[건강기능] -2.844e+07   2.16e+08     -0.132      0.895   -4.53e+08    3.96e+08\n",
      "C(Item_Group)[농수축]  -1.213e+07   1.26e+08     -0.096      0.923    -2.6e+08    2.36e+08\n",
      "C(Item_Group)[생활용품] -1.031e+08   1.52e+08     -0.680      0.497   -4.02e+08    1.95e+08\n",
      "C(Item_Group)[속옷]   -9.954e+07   1.09e+08     -0.909      0.364   -3.15e+08    1.16e+08\n",
      "C(Item_Group)[의류]    -6.59e+07   9.34e+07     -0.705      0.481    -2.5e+08    1.18e+08\n",
      "C(Item_Group)[이미용]  -1.451e+08   2.83e+08     -0.512      0.609   -7.03e+08    4.12e+08\n",
      "C(Item_Group)[잡화]   -1.392e+08    1.5e+08     -0.928      0.354   -4.34e+08    1.56e+08\n",
      "C(Item_Group)[주방]    -1.28e+08   9.55e+07     -1.341      0.181   -3.16e+08    5.98e+07\n",
      "Total_View           1.019e+06   4.19e+04     24.318      0.000    9.37e+05     1.1e+06\n",
      "Total_EA              2.45e+04   1508.342     16.242      0.000    2.15e+04    2.75e+04\n",
      "Price                -553.7518    136.011     -4.071      0.000    -821.254    -286.249\n",
      "==============================================================================\n",
      "Omnibus:                      181.257   Durbin-Watson:                   1.686\n",
      "Prob(Omnibus):                  0.000   Jarque-Bera (JB):             8375.970\n",
      "Skew:                           1.326   Prob(JB):                         0.00\n",
      "Kurtosis:                      26.383   Cond. No.                     4.43e+06\n",
      "==============================================================================\n",
      "\n",
      "Warnings:\n",
      "[1] Standard Errors assume that the covariance matrix of the errors is correctly specified.\n",
      "[2] The condition number is large, 4.43e+06. This might indicate that there are\n",
      "strong multicollinearity or other numerical problems.\n"
     ]
    }
   ],
   "source": [
    "# 모든 변수\n",
    "model = sm.OLS.from_formula(\"Total_Amount ~ C(Item_Group) + Total_View + Total_EA + Price + 0\", sale_t)\n",
    "result = model.fit()\n",
    "print(result.summary())"
   ]
  },
  {
   "cell_type": "code",
   "execution_count": 37,
   "metadata": {},
   "outputs": [
    {
     "name": "stdout",
     "output_type": "stream",
     "text": [
      "                                 OLS Regression Results                                \n",
      "=======================================================================================\n",
      "Dep. Variable:           Total_Amount   R-squared (uncentered):                   0.870\n",
      "Model:                            OLS   Adj. R-squared (uncentered):              0.868\n",
      "Method:                 Least Squares   F-statistic:                              799.6\n",
      "Date:                Mon, 17 Aug 2020   Prob (F-statistic):                   9.02e-159\n",
      "Time:                        12:53:34   Log-Likelihood:                         -7929.9\n",
      "No. Observations:                 363   AIC:                                  1.587e+04\n",
      "Df Residuals:                     360   BIC:                                  1.588e+04\n",
      "Df Model:                           3                                                  \n",
      "Covariance Type:            nonrobust                                                  \n",
      "==============================================================================\n",
      "                 coef    std err          t      P>|t|      [0.025      0.975]\n",
      "------------------------------------------------------------------------------\n",
      "Total_View      1e+06   3.96e+04     25.255      0.000    9.22e+05    1.08e+06\n",
      "Total_EA    2.427e+04   1405.810     17.267      0.000    2.15e+04     2.7e+04\n",
      "Price       -353.9279     76.997     -4.597      0.000    -505.348    -202.508\n",
      "==============================================================================\n",
      "Omnibus:                      213.976   Durbin-Watson:                   1.652\n",
      "Prob(Omnibus):                  0.000   Jarque-Bera (JB):             8849.195\n",
      "Skew:                           1.785   Prob(JB):                         0.00\n",
      "Kurtosis:                      26.923   Cond. No.                         617.\n",
      "==============================================================================\n",
      "\n",
      "Warnings:\n",
      "[1] Standard Errors assume that the covariance matrix of the errors is correctly specified.\n"
     ]
    }
   ],
   "source": [
    "# 변수 제거\n",
    "model = sm.OLS.from_formula(\"Total_Amount ~ Total_View + Total_EA + Price + 0\", sale_t)\n",
    "result = model.fit()\n",
    "print(result.summary())"
   ]
  },
  {
   "cell_type": "markdown",
   "metadata": {},
   "source": [
    "## 회귀분석(2)\n",
    "- 총 판매량과 노출시간은 관련이 있을까?"
   ]
  },
  {
   "cell_type": "code",
   "execution_count": 38,
   "metadata": {},
   "outputs": [
    {
     "name": "stdout",
     "output_type": "stream",
     "text": [
      "                                 OLS Regression Results                                \n",
      "=======================================================================================\n",
      "Dep. Variable:           Total_Amount   R-squared (uncentered):                   0.724\n",
      "Model:                            OLS   Adj. R-squared (uncentered):              0.723\n",
      "Method:                 Least Squares   F-statistic:                              948.1\n",
      "Date:                Mon, 17 Aug 2020   Prob (F-statistic):                   3.83e-103\n",
      "Time:                        12:54:34   Log-Likelihood:                         -8066.0\n",
      "No. Observations:                 363   AIC:                                  1.613e+04\n",
      "Df Residuals:                     362   BIC:                                  1.614e+04\n",
      "Df Model:                           1                                                  \n",
      "Covariance Type:            nonrobust                                                  \n",
      "==============================================================================\n",
      "                 coef    std err          t      P>|t|      [0.025      0.975]\n",
      "------------------------------------------------------------------------------\n",
      "Total_View  1.247e+06   4.05e+04     30.792      0.000    1.17e+06    1.33e+06\n",
      "==============================================================================\n",
      "Omnibus:                      169.419   Durbin-Watson:                   0.819\n",
      "Prob(Omnibus):                  0.000   Jarque-Bera (JB):             6066.747\n",
      "Skew:                           1.260   Prob(JB):                         0.00\n",
      "Kurtosis:                      22.869   Cond. No.                         1.00\n",
      "==============================================================================\n",
      "\n",
      "Warnings:\n",
      "[1] Standard Errors assume that the covariance matrix of the errors is correctly specified.\n"
     ]
    }
   ],
   "source": [
    "model = sm.OLS.from_formula(\"Total_Amount ~ Total_View + 0\", sale_t)\n",
    "result = model.fit()\n",
    "print(result.summary())"
   ]
  },
  {
   "cell_type": "markdown",
   "metadata": {},
   "source": [
    "- 아주 관련이 크다"
   ]
  },
  {
   "cell_type": "code",
   "execution_count": 54,
   "metadata": {},
   "outputs": [
    {
     "name": "stdout",
     "output_type": "stream",
     "text": [
      "                                 OLS Regression Results                                \n",
      "=======================================================================================\n",
      "Dep. Variable:           Total_Amount   R-squared (uncentered):                   0.593\n",
      "Model:                            OLS   Adj. R-squared (uncentered):              0.592\n",
      "Method:                 Least Squares   F-statistic:                              528.4\n",
      "Date:                Mon, 17 Aug 2020   Prob (F-statistic):                    9.67e-73\n",
      "Time:                        13:44:03   Log-Likelihood:                         -8136.1\n",
      "No. Observations:                 363   AIC:                                  1.627e+04\n",
      "Df Residuals:                     362   BIC:                                  1.628e+04\n",
      "Df Model:                           1                                                  \n",
      "Covariance Type:            nonrobust                                                  \n",
      "==============================================================================\n",
      "                 coef    std err          t      P>|t|      [0.025      0.975]\n",
      "------------------------------------------------------------------------------\n",
      "Total_EA    4.581e+04   1992.746     22.987      0.000    4.19e+04    4.97e+04\n",
      "==============================================================================\n",
      "Omnibus:                      381.782   Durbin-Watson:                   1.302\n",
      "Prob(Omnibus):                  0.000   Jarque-Bera (JB):            20111.906\n",
      "Skew:                           4.473   Prob(JB):                         0.00\n",
      "Kurtosis:                      38.351   Cond. No.                         1.00\n",
      "==============================================================================\n",
      "\n",
      "Warnings:\n",
      "[1] Standard Errors assume that the covariance matrix of the errors is correctly specified.\n"
     ]
    }
   ],
   "source": [
    "model = sm.OLS.from_formula(\"Total_Amount ~ Total_EA + 0\", sale_t)\n",
    "result = model.fit()\n",
    "print(result.summary())"
   ]
  },
  {
   "cell_type": "markdown",
   "metadata": {},
   "source": [
    "- 총 판매 갯수와 총 취급액은 서로 충분한 설명력이있다."
   ]
  },
  {
   "cell_type": "markdown",
   "metadata": {},
   "source": [
    "## 추천시스템"
   ]
  },
  {
   "cell_type": "code",
   "execution_count": 79,
   "metadata": {},
   "outputs": [],
   "source": [
    "import surprise\n",
    "from sklearn.decomposition import TruncatedSVD"
   ]
  },
  {
   "cell_type": "code",
   "execution_count": 86,
   "metadata": {},
   "outputs": [
    {
     "data": {
      "text/html": [
       "<div>\n",
       "<style scoped>\n",
       "    .dataframe tbody tr th:only-of-type {\n",
       "        vertical-align: middle;\n",
       "    }\n",
       "\n",
       "    .dataframe tbody tr th {\n",
       "        vertical-align: top;\n",
       "    }\n",
       "\n",
       "    .dataframe thead th {\n",
       "        text-align: right;\n",
       "    }\n",
       "</style>\n",
       "<table border=\"1\" class=\"dataframe\">\n",
       "  <thead>\n",
       "    <tr style=\"text-align: right;\">\n",
       "      <th></th>\n",
       "      <th>Tot_EA_Stand+1</th>\n",
       "      <th>Mom_Code</th>\n",
       "      <th>Item_Code</th>\n",
       "    </tr>\n",
       "  </thead>\n",
       "  <tbody>\n",
       "    <tr>\n",
       "      <th>0</th>\n",
       "      <td>5.7</td>\n",
       "      <td>100255</td>\n",
       "      <td>200868</td>\n",
       "    </tr>\n",
       "    <tr>\n",
       "      <th>1</th>\n",
       "      <td>14.8</td>\n",
       "      <td>100253</td>\n",
       "      <td>200864</td>\n",
       "    </tr>\n",
       "    <tr>\n",
       "      <th>2</th>\n",
       "      <td>0.9</td>\n",
       "      <td>100155</td>\n",
       "      <td>200554</td>\n",
       "    </tr>\n",
       "    <tr>\n",
       "      <th>3</th>\n",
       "      <td>0.9</td>\n",
       "      <td>100155</td>\n",
       "      <td>200487</td>\n",
       "    </tr>\n",
       "    <tr>\n",
       "      <th>4</th>\n",
       "      <td>0.8</td>\n",
       "      <td>100148</td>\n",
       "      <td>200508</td>\n",
       "    </tr>\n",
       "    <tr>\n",
       "      <th>...</th>\n",
       "      <td>...</td>\n",
       "      <td>...</td>\n",
       "      <td>...</td>\n",
       "    </tr>\n",
       "    <tr>\n",
       "      <th>358</th>\n",
       "      <td>0.7</td>\n",
       "      <td>100433</td>\n",
       "      <td>201346</td>\n",
       "    </tr>\n",
       "    <tr>\n",
       "      <th>359</th>\n",
       "      <td>0.7</td>\n",
       "      <td>100445</td>\n",
       "      <td>202281</td>\n",
       "    </tr>\n",
       "    <tr>\n",
       "      <th>360</th>\n",
       "      <td>0.7</td>\n",
       "      <td>100124</td>\n",
       "      <td>200332</td>\n",
       "    </tr>\n",
       "    <tr>\n",
       "      <th>361</th>\n",
       "      <td>0.7</td>\n",
       "      <td>100678</td>\n",
       "      <td>202025</td>\n",
       "    </tr>\n",
       "    <tr>\n",
       "      <th>362</th>\n",
       "      <td>0.7</td>\n",
       "      <td>100678</td>\n",
       "      <td>202027</td>\n",
       "    </tr>\n",
       "  </tbody>\n",
       "</table>\n",
       "<p>363 rows × 3 columns</p>\n",
       "</div>"
      ],
      "text/plain": [
       "     Tot_EA_Stand+1  Mom_Code  Item_Code\n",
       "0               5.7    100255     200868\n",
       "1              14.8    100253     200864\n",
       "2               0.9    100155     200554\n",
       "3               0.9    100155     200487\n",
       "4               0.8    100148     200508\n",
       "..              ...       ...        ...\n",
       "358             0.7    100433     201346\n",
       "359             0.7    100445     202281\n",
       "360             0.7    100124     200332\n",
       "361             0.7    100678     202025\n",
       "362             0.7    100678     202027\n",
       "\n",
       "[363 rows x 3 columns]"
      ]
     },
     "execution_count": 86,
     "metadata": {},
     "output_type": "execute_result"
    }
   ],
   "source": [
    "sale_t = pd.read_csv(\"datas/sales_total.csv\", encoding=\"ANSI\")\n",
    "sale_ts = pd.DataFrame(sale_t)\n",
    "del sale_ts[\"Item\"]\n",
    "del sale_ts[\"Count\"]\n",
    "del sale_ts[\"Total_View\"]\n",
    "del sale_ts[\"Total_Amount\"]\n",
    "del sale_ts[\"Tot_Am_Stand\"]\n",
    "del sale_ts[\"Total_EA\"]\n",
    "del sale_ts[\"Item_Group\"]\n",
    "del sale_ts[\"Price\"]\n",
    "sale_ts"
   ]
  },
  {
   "cell_type": "code",
   "execution_count": 91,
   "metadata": {},
   "outputs": [
    {
     "data": {
      "text/plain": [
       "(180, 363)"
      ]
     },
     "execution_count": 91,
     "metadata": {},
     "output_type": "execute_result"
    }
   ],
   "source": [
    "sale_t_table = sale_ts.set_index([\"Mom_Code\", \"Item_Code\"]).unstack().fillna(0)\n",
    "sale_t_table.shape"
   ]
  },
  {
   "cell_type": "code",
   "execution_count": 92,
   "metadata": {},
   "outputs": [
    {
     "data": {
      "text/html": [
       "<div>\n",
       "<style scoped>\n",
       "    .dataframe tbody tr th:only-of-type {\n",
       "        vertical-align: middle;\n",
       "    }\n",
       "\n",
       "    .dataframe tbody tr th {\n",
       "        vertical-align: top;\n",
       "    }\n",
       "\n",
       "    .dataframe thead tr th {\n",
       "        text-align: left;\n",
       "    }\n",
       "\n",
       "    .dataframe thead tr:last-of-type th {\n",
       "        text-align: right;\n",
       "    }\n",
       "</style>\n",
       "<table border=\"1\" class=\"dataframe\">\n",
       "  <thead>\n",
       "    <tr>\n",
       "      <th></th>\n",
       "      <th colspan=\"10\" halign=\"left\">Tot_EA_Stand+1</th>\n",
       "    </tr>\n",
       "    <tr>\n",
       "      <th>Item_Code</th>\n",
       "      <th>200160</th>\n",
       "      <th>200191</th>\n",
       "      <th>200197</th>\n",
       "      <th>200218</th>\n",
       "      <th>200219</th>\n",
       "      <th>200235</th>\n",
       "      <th>200236</th>\n",
       "      <th>200242</th>\n",
       "      <th>200243</th>\n",
       "      <th>200246</th>\n",
       "    </tr>\n",
       "    <tr>\n",
       "      <th>Mom_Code</th>\n",
       "      <th></th>\n",
       "      <th></th>\n",
       "      <th></th>\n",
       "      <th></th>\n",
       "      <th></th>\n",
       "      <th></th>\n",
       "      <th></th>\n",
       "      <th></th>\n",
       "      <th></th>\n",
       "      <th></th>\n",
       "    </tr>\n",
       "  </thead>\n",
       "  <tbody>\n",
       "    <tr>\n",
       "      <th>100080</th>\n",
       "      <td>0.0</td>\n",
       "      <td>0.0</td>\n",
       "      <td>0.0</td>\n",
       "      <td>0.0</td>\n",
       "      <td>1.3</td>\n",
       "      <td>0.0</td>\n",
       "      <td>0.0</td>\n",
       "      <td>0.0</td>\n",
       "      <td>0.0</td>\n",
       "      <td>0.0</td>\n",
       "    </tr>\n",
       "    <tr>\n",
       "      <th>100081</th>\n",
       "      <td>0.0</td>\n",
       "      <td>0.0</td>\n",
       "      <td>0.0</td>\n",
       "      <td>1.1</td>\n",
       "      <td>0.0</td>\n",
       "      <td>0.0</td>\n",
       "      <td>0.0</td>\n",
       "      <td>0.0</td>\n",
       "      <td>0.0</td>\n",
       "      <td>0.0</td>\n",
       "    </tr>\n",
       "    <tr>\n",
       "      <th>100088</th>\n",
       "      <td>0.0</td>\n",
       "      <td>0.0</td>\n",
       "      <td>0.0</td>\n",
       "      <td>0.0</td>\n",
       "      <td>0.0</td>\n",
       "      <td>1.4</td>\n",
       "      <td>5.4</td>\n",
       "      <td>0.0</td>\n",
       "      <td>0.0</td>\n",
       "      <td>0.0</td>\n",
       "    </tr>\n",
       "    <tr>\n",
       "      <th>100089</th>\n",
       "      <td>0.0</td>\n",
       "      <td>0.0</td>\n",
       "      <td>0.0</td>\n",
       "      <td>0.0</td>\n",
       "      <td>0.0</td>\n",
       "      <td>0.0</td>\n",
       "      <td>0.0</td>\n",
       "      <td>0.8</td>\n",
       "      <td>0.0</td>\n",
       "      <td>0.8</td>\n",
       "    </tr>\n",
       "    <tr>\n",
       "      <th>100090</th>\n",
       "      <td>0.0</td>\n",
       "      <td>0.0</td>\n",
       "      <td>0.0</td>\n",
       "      <td>0.0</td>\n",
       "      <td>0.0</td>\n",
       "      <td>0.0</td>\n",
       "      <td>0.0</td>\n",
       "      <td>0.0</td>\n",
       "      <td>0.9</td>\n",
       "      <td>0.0</td>\n",
       "    </tr>\n",
       "    <tr>\n",
       "      <th>100097</th>\n",
       "      <td>0.0</td>\n",
       "      <td>0.0</td>\n",
       "      <td>0.0</td>\n",
       "      <td>0.0</td>\n",
       "      <td>0.0</td>\n",
       "      <td>0.0</td>\n",
       "      <td>0.0</td>\n",
       "      <td>0.0</td>\n",
       "      <td>0.0</td>\n",
       "      <td>0.0</td>\n",
       "    </tr>\n",
       "    <tr>\n",
       "      <th>100100</th>\n",
       "      <td>0.0</td>\n",
       "      <td>0.0</td>\n",
       "      <td>0.0</td>\n",
       "      <td>0.0</td>\n",
       "      <td>0.0</td>\n",
       "      <td>0.0</td>\n",
       "      <td>0.0</td>\n",
       "      <td>0.0</td>\n",
       "      <td>0.0</td>\n",
       "      <td>0.0</td>\n",
       "    </tr>\n",
       "    <tr>\n",
       "      <th>100101</th>\n",
       "      <td>0.0</td>\n",
       "      <td>0.0</td>\n",
       "      <td>0.0</td>\n",
       "      <td>0.0</td>\n",
       "      <td>0.0</td>\n",
       "      <td>0.0</td>\n",
       "      <td>0.0</td>\n",
       "      <td>0.0</td>\n",
       "      <td>0.0</td>\n",
       "      <td>0.0</td>\n",
       "    </tr>\n",
       "    <tr>\n",
       "      <th>100102</th>\n",
       "      <td>0.0</td>\n",
       "      <td>0.0</td>\n",
       "      <td>0.0</td>\n",
       "      <td>0.0</td>\n",
       "      <td>0.0</td>\n",
       "      <td>0.0</td>\n",
       "      <td>0.0</td>\n",
       "      <td>0.0</td>\n",
       "      <td>0.0</td>\n",
       "      <td>0.0</td>\n",
       "    </tr>\n",
       "    <tr>\n",
       "      <th>100124</th>\n",
       "      <td>0.0</td>\n",
       "      <td>0.0</td>\n",
       "      <td>0.0</td>\n",
       "      <td>0.0</td>\n",
       "      <td>0.0</td>\n",
       "      <td>0.0</td>\n",
       "      <td>0.0</td>\n",
       "      <td>0.0</td>\n",
       "      <td>0.0</td>\n",
       "      <td>0.0</td>\n",
       "    </tr>\n",
       "  </tbody>\n",
       "</table>\n",
       "</div>"
      ],
      "text/plain": [
       "          Tot_EA_Stand+1                                                   \\\n",
       "Item_Code         200160 200191 200197 200218 200219 200235 200236 200242   \n",
       "Mom_Code                                                                    \n",
       "100080               0.0    0.0    0.0    0.0    1.3    0.0    0.0    0.0   \n",
       "100081               0.0    0.0    0.0    1.1    0.0    0.0    0.0    0.0   \n",
       "100088               0.0    0.0    0.0    0.0    0.0    1.4    5.4    0.0   \n",
       "100089               0.0    0.0    0.0    0.0    0.0    0.0    0.0    0.8   \n",
       "100090               0.0    0.0    0.0    0.0    0.0    0.0    0.0    0.0   \n",
       "100097               0.0    0.0    0.0    0.0    0.0    0.0    0.0    0.0   \n",
       "100100               0.0    0.0    0.0    0.0    0.0    0.0    0.0    0.0   \n",
       "100101               0.0    0.0    0.0    0.0    0.0    0.0    0.0    0.0   \n",
       "100102               0.0    0.0    0.0    0.0    0.0    0.0    0.0    0.0   \n",
       "100124               0.0    0.0    0.0    0.0    0.0    0.0    0.0    0.0   \n",
       "\n",
       "                         \n",
       "Item_Code 200243 200246  \n",
       "Mom_Code                 \n",
       "100080       0.0    0.0  \n",
       "100081       0.0    0.0  \n",
       "100088       0.0    0.0  \n",
       "100089       0.0    0.8  \n",
       "100090       0.9    0.0  \n",
       "100097       0.0    0.0  \n",
       "100100       0.0    0.0  \n",
       "100101       0.0    0.0  \n",
       "100102       0.0    0.0  \n",
       "100124       0.0    0.0  "
      ]
     },
     "execution_count": 92,
     "metadata": {},
     "output_type": "execute_result"
    }
   ],
   "source": [
    "sale_t_table.iloc[10:20, 10:20]"
   ]
  },
  {
   "cell_type": "code",
   "execution_count": 94,
   "metadata": {},
   "outputs": [
    {
     "data": {
      "text/plain": [
       "(180, 12)"
      ]
     },
     "execution_count": 94,
     "metadata": {},
     "output_type": "execute_result"
    }
   ],
   "source": [
    "SVD = TruncatedSVD(n_components=12)\n",
    "sale_matrix = SVD.fit_transform(sale_t_table)\n",
    "sale_matrix.shape"
   ]
  },
  {
   "cell_type": "code",
   "execution_count": 95,
   "metadata": {},
   "outputs": [
    {
     "data": {
      "text/plain": [
       "array([-1.64313008e-15, -4.54966152e-13,  2.89382547e-12, -9.20825661e-12,\n",
       "        1.26110659e-10, -8.92244733e-11,  2.11633364e-10, -2.54888146e-09,\n",
       "        3.42729714e-09,  6.22448507e-08,  3.05891695e-08,  1.35823474e-07])"
      ]
     },
     "execution_count": 95,
     "metadata": {},
     "output_type": "execute_result"
    }
   ],
   "source": [
    "sale_matrix[0]"
   ]
  },
  {
   "cell_type": "code",
   "execution_count": 96,
   "metadata": {},
   "outputs": [
    {
     "data": {
      "text/plain": [
       "(180, 180)"
      ]
     },
     "execution_count": 96,
     "metadata": {},
     "output_type": "execute_result"
    }
   ],
   "source": [
    "corr = np.corrcoef(sale_matrix)\n",
    "corr.shape"
   ]
  },
  {
   "cell_type": "code",
   "execution_count": 99,
   "metadata": {},
   "outputs": [
    {
     "data": {
      "text/plain": [
       "<matplotlib.axes._subplots.AxesSubplot at 0x2052507c548>"
      ]
     },
     "execution_count": 99,
     "metadata": {},
     "output_type": "execute_result"
    },
    {
     "data": {
      "image/png": "[encoded data removed]",
      "text/plain": [
       "<Figure size 432x288 with 2 Axes>"
      ]
     },
     "metadata": {
      "needs_background": "light"
     },
     "output_type": "display_data"
    }
   ],
   "source": [
    "sns.heatmap(corr)"
   ]
  },
  {
   "cell_type": "code",
   "execution_count": null,
   "metadata": {},
   "outputs": [],
   "source": []
  }
 ],
 "metadata": {
  "kernelspec": {
   "display_name": "Python 3",
   "language": "python",
   "name": "python3"
  },
  "language_info": {
   "codemirror_mode": {
    "name": "ipython",
    "version": 3
   },
   "file_extension": ".py",
   "mimetype": "text/x-python",
   "name": "python",
   "nbconvert_exporter": "python",
   "pygments_lexer": "ipython3",
   "version": "3.7.7"
  }
 },
 "nbformat": 4,
 "nbformat_minor": 4
}
